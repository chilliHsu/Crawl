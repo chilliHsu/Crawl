{
 "cells": [
  {
   "cell_type": "markdown",
   "metadata": {},
   "source": [
    "# Reviews crawler"
   ]
  },
  {
   "cell_type": "code",
   "execution_count": 8,
   "metadata": {
    "collapsed": true,
    "scrolled": true
   },
   "outputs": [],
   "source": [
    "import sys\n",
    "from Naked.toolshed.shell import execute_js, muterun_js \n",
    "import json\n",
    "import demjson"
   ]
  },
  {
   "cell_type": "code",
   "execution_count": 15,
   "metadata": {
    "collapsed": true
   },
   "outputs": [],
   "source": [
    "def crawl_setting(app_id, language, sortby, pageNum):\n",
    "    claim = \"var gplay = require('google-play-scraper');\" #我把python檔它放到node_module裡了，跟google-play-scraper同層\n",
    "    method = \"gplay.reviews({\"+ \\\n",
    "                \"appId: \"+app_id+\", \" + \\\n",
    "                \"lang: \"+language+\", \" + \\\n",
    "                \"sort: \"+sortby+\", \" + \\\n",
    "                \"page: \"+pageNum + \\\n",
    "            \"}).then(console.log, console.log);\"\n",
    "            \n",
    "    return(claim, method)\n",
    "\n",
    "\n",
    "def writeNodeJS(claim, method):\n",
    "    with open('myRunNodeJS.js', 'w') as the_file:\n",
    "        the_file.write(claim+'\\n')\n",
    "        the_file.write(method)\n",
    "\n",
    "def binary_to_json(binaryStr):\n",
    "    # Decode UTF-8 bytes to Unicode, and convert single quotes \n",
    "    # to double quotes to make it valid JSON\n",
    "    my_json = binaryStr.decode('utf8').replace(\"'\", '\"')\n",
    "    print(my_json)\n",
    "    print('- ' * 20)\n",
    "\n",
    "    # Load the JSON to a Python list & dump it back out as formatted JSON\n",
    "    data = json.loads(my_json)\n",
    "    s = json.dumps(data, indent=4, sort_keys=True)\n",
    "    print(my_json)\n",
    "\n",
    "def getReviewsList():\n",
    "    result=\"\"\n",
    "    response = muterun_js('myRunNodeJS.js')\n",
    "    print(\"response:\", response) #看不懂這個response到底是啥XD\n",
    "    \n",
    "    if response.exitcode == 0:\n",
    "        result = response.stdout\n",
    "        print(result)\n",
    "    else:\n",
    "        print('Error')\n",
    "    return(demjson.decode(result))\n",
    "    "
   ]
  },
  {
   "cell_type": "markdown",
   "metadata": {},
   "source": [
    "#### Revise the value of parameters here"
   ]
  },
  {
   "cell_type": "markdown",
   "metadata": {},
   "source": [
    "Options:\n",
    "\n",
    "* appId: Unique application id for Google Play. (e.g. id=com.mojang.minecraftpe maps to Minecraft: Pocket Edition game).\n",
    "* lang (optional, defaults to 'en'): the two letter language code in which to fetch the reviews.\n",
    "* sort (optional, defaults to sort.NEWEST): The way the reviews are going to be sorted. Accepted values are: sort.NEWEST, sort.RATING and sort.HELPFULNESS.\n",
    "* page (optional, defaults to 0): Number of page that contains reviews. Every page has 40 reviews at most.\n",
    "\n",
    "(resource API:https://github.com/facundoolano/google-play-scraper#reviews)"
   ]
  },
  {
   "cell_type": "code",
   "execution_count": 16,
   "metadata": {},
   "outputs": [
    {
     "name": "stdout",
     "output_type": "stream",
     "text": [
      "response: <Naked.toolshed.types.NakedObject object at 0x0520FE70>\n",
      "Error\n"
     ]
    },
    {
     "ename": "JSONDecodeError",
     "evalue": "No value to decode",
     "output_type": "error",
     "traceback": [
      "\u001b[1;31m---------------------------------------------------------------------------\u001b[0m",
      "\u001b[1;31mJSONDecodeError\u001b[0m                           Traceback (most recent call last)",
      "\u001b[1;32m<ipython-input-16-a00c4d282382>\u001b[0m in \u001b[0;36m<module>\u001b[1;34m()\u001b[0m\n\u001b[0;32m      5\u001b[0m \u001b[0mclaim\u001b[0m\u001b[1;33m,\u001b[0m \u001b[0mmethod\u001b[0m \u001b[1;33m=\u001b[0m \u001b[0mcrawl_setting\u001b[0m\u001b[1;33m(\u001b[0m\u001b[1;34m'\\\"'\u001b[0m\u001b[1;33m+\u001b[0m\u001b[0mappID\u001b[0m\u001b[1;33m+\u001b[0m\u001b[1;34m'\\\"'\u001b[0m\u001b[1;33m,\u001b[0m\u001b[1;34m'\\\"'\u001b[0m\u001b[1;33m+\u001b[0m\u001b[0mlang\u001b[0m\u001b[1;33m+\u001b[0m\u001b[1;34m'\\\"'\u001b[0m\u001b[1;33m,\u001b[0m \u001b[0msort\u001b[0m\u001b[1;33m,\u001b[0m \u001b[0mpage\u001b[0m\u001b[1;33m)\u001b[0m\u001b[1;33m\u001b[0m\u001b[0m\n\u001b[0;32m      6\u001b[0m \u001b[0mwriteNodeJS\u001b[0m\u001b[1;33m(\u001b[0m\u001b[0mclaim\u001b[0m\u001b[1;33m,\u001b[0m \u001b[0mmethod\u001b[0m\u001b[1;33m)\u001b[0m\u001b[1;33m\u001b[0m\u001b[0m\n\u001b[1;32m----> 7\u001b[1;33m \u001b[0mreviews\u001b[0m \u001b[1;33m=\u001b[0m \u001b[0mgetReviewsList\u001b[0m\u001b[1;33m(\u001b[0m\u001b[1;33m)\u001b[0m\u001b[1;33m\u001b[0m\u001b[0m\n\u001b[0m\u001b[0;32m      8\u001b[0m \u001b[0mreviews\u001b[0m\u001b[1;33m\u001b[0m\u001b[0m\n",
      "\u001b[1;32m<ipython-input-15-f1e6d836e810>\u001b[0m in \u001b[0;36mgetReviewsList\u001b[1;34m()\u001b[0m\n\u001b[0;32m     33\u001b[0m     \u001b[1;32melse\u001b[0m\u001b[1;33m:\u001b[0m\u001b[1;33m\u001b[0m\u001b[0m\n\u001b[0;32m     34\u001b[0m         \u001b[0mprint\u001b[0m\u001b[1;33m(\u001b[0m\u001b[1;34m'Error'\u001b[0m\u001b[1;33m)\u001b[0m\u001b[1;33m\u001b[0m\u001b[0m\n\u001b[1;32m---> 35\u001b[1;33m     \u001b[1;32mreturn\u001b[0m\u001b[1;33m(\u001b[0m\u001b[0mdemjson\u001b[0m\u001b[1;33m.\u001b[0m\u001b[0mdecode\u001b[0m\u001b[1;33m(\u001b[0m\u001b[0mresult\u001b[0m\u001b[1;33m)\u001b[0m\u001b[1;33m)\u001b[0m\u001b[1;33m\u001b[0m\u001b[0m\n\u001b[0m\u001b[0;32m     36\u001b[0m \u001b[1;33m\u001b[0m\u001b[0m\n",
      "\u001b[1;32mc:\\users\\user\\appdata\\local\\programs\\python\\python36-32\\lib\\site-packages\\demjson.py\u001b[0m in \u001b[0;36mdecode\u001b[1;34m(txt, encoding, **kwargs)\u001b[0m\n\u001b[0;32m   5697\u001b[0m                        \u001b[0mencoding\u001b[0m\u001b[1;33m=\u001b[0m\u001b[0mencoding\u001b[0m\u001b[1;33m,\u001b[0m\u001b[1;33m\u001b[0m\u001b[0m\n\u001b[0;32m   5698\u001b[0m                        \u001b[0mreturn_errors\u001b[0m\u001b[1;33m=\u001b[0m\u001b[1;33m(\u001b[0m\u001b[0mreturn_errors\u001b[0m \u001b[1;32mor\u001b[0m \u001b[0mwrite_errors\u001b[0m\u001b[1;33m)\u001b[0m\u001b[1;33m,\u001b[0m\u001b[1;33m\u001b[0m\u001b[0m\n\u001b[1;32m-> 5699\u001b[1;33m                        return_stats=(return_stats or write_stats) )\n\u001b[0m\u001b[0;32m   5700\u001b[0m \u001b[1;33m\u001b[0m\u001b[0m\n\u001b[0;32m   5701\u001b[0m     \u001b[1;32mif\u001b[0m \u001b[0mwrite_errors\u001b[0m\u001b[1;33m:\u001b[0m\u001b[1;33m\u001b[0m\u001b[0m\n",
      "\u001b[1;32mc:\\users\\user\\appdata\\local\\programs\\python\\python36-32\\lib\\site-packages\\demjson.py\u001b[0m in \u001b[0;36mdecode\u001b[1;34m(self, txt, encoding, return_errors, return_stats)\u001b[0m\n\u001b[0;32m   4913\u001b[0m             \u001b[0merrors\u001b[0m \u001b[1;33m=\u001b[0m \u001b[1;33m[\u001b[0m\u001b[0merr\u001b[0m \u001b[1;32mfor\u001b[0m \u001b[0merr\u001b[0m \u001b[1;32min\u001b[0m \u001b[0mstate\u001b[0m\u001b[1;33m.\u001b[0m\u001b[0merrors\u001b[0m \u001b[1;32mif\u001b[0m \u001b[0merr\u001b[0m\u001b[1;33m.\u001b[0m\u001b[0mseverity\u001b[0m \u001b[1;32min\u001b[0m \u001b[1;33m(\u001b[0m\u001b[1;34m'fatal'\u001b[0m\u001b[1;33m,\u001b[0m\u001b[1;34m'error'\u001b[0m\u001b[1;33m)\u001b[0m\u001b[1;33m]\u001b[0m\u001b[1;33m\u001b[0m\u001b[0m\n\u001b[0;32m   4914\u001b[0m             \u001b[1;32mif\u001b[0m \u001b[0merrors\u001b[0m\u001b[1;33m:\u001b[0m\u001b[1;33m\u001b[0m\u001b[0m\n\u001b[1;32m-> 4915\u001b[1;33m                 \u001b[1;32mraise\u001b[0m \u001b[0merrors\u001b[0m\u001b[1;33m[\u001b[0m\u001b[1;36m0\u001b[0m\u001b[1;33m]\u001b[0m\u001b[1;33m\u001b[0m\u001b[0m\n\u001b[0m\u001b[0;32m   4916\u001b[0m             \u001b[1;32mif\u001b[0m \u001b[0mreturn_stats\u001b[0m\u001b[1;33m:\u001b[0m\u001b[1;33m\u001b[0m\u001b[0m\n\u001b[0;32m   4917\u001b[0m                 \u001b[1;32mreturn\u001b[0m \u001b[0mresult_type\u001b[0m\u001b[1;33m(\u001b[0m\u001b[0mstate\u001b[0m\u001b[1;33m.\u001b[0m\u001b[0mobj\u001b[0m\u001b[1;33m,\u001b[0m \u001b[1;32mNone\u001b[0m\u001b[1;33m,\u001b[0m \u001b[0mstate\u001b[0m\u001b[1;33m.\u001b[0m\u001b[0mstats\u001b[0m\u001b[1;33m)\u001b[0m\u001b[1;33m\u001b[0m\u001b[0m\n",
      "\u001b[1;31mJSONDecodeError\u001b[0m: No value to decode"
     ]
    }
   ],
   "source": [
    "appID = \"com.garena.game.kgtw\"\n",
    "lang = \"zh-tw\"\n",
    "sort = \"gplay.sort.NEWEST\"\n",
    "page =  \"0\"\n",
    "claim, method = crawl_setting('\\\"'+appID+'\\\"','\\\"'+lang+'\\\"', sort, page)\n",
    "writeNodeJS(claim, method)\n",
    "reviews = getReviewsList()\n",
    "reviews"
   ]
  },
  {
   "cell_type": "code",
   "execution_count": null,
   "metadata": {
    "collapsed": true
   },
   "outputs": [],
   "source": []
  },
  {
   "cell_type": "code",
   "execution_count": null,
   "metadata": {
    "collapsed": true
   },
   "outputs": [],
   "source": []
  },
  {
   "cell_type": "code",
   "execution_count": null,
   "metadata": {
    "collapsed": true
   },
   "outputs": [],
   "source": []
  },
  {
   "cell_type": "code",
   "execution_count": null,
   "metadata": {
    "collapsed": true
   },
   "outputs": [],
   "source": []
  }
 ],
 "metadata": {
  "kernelspec": {
   "display_name": "Python 3",
   "language": "python",
   "name": "python3"
  },
  "language_info": {
   "codemirror_mode": {
    "name": "ipython",
    "version": 3
   },
   "file_extension": ".py",
   "mimetype": "text/x-python",
   "name": "python",
   "nbconvert_exporter": "python",
   "pygments_lexer": "ipython3",
   "version": "3.6.0"
  }
 },
 "nbformat": 4,
 "nbformat_minor": 2
}
